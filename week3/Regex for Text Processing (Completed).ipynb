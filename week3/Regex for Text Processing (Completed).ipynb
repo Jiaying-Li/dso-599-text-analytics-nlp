{
 "cells": [
  {
   "cell_type": "markdown",
   "metadata": {},
   "source": [
    "# Regex Introduction\n",
    "\n",
    "Use the [regexp.com](regexp.com) to practice and hone your regular expressions before applying them in Python."
   ]
  },
  {
   "cell_type": "code",
   "execution_count": 2,
   "metadata": {},
   "outputs": [],
   "source": [
    "import re\n",
    "\n",
    "SAMPLE_TWEET = '''\n",
    "#wolfram Alpha SUCKS! Even for researchers the information provided is less than you can get from \n",
    "#google or #wikipedia, totally useless!\"\n",
    "'''"
   ]
  },
  {
   "cell_type": "markdown",
   "metadata": {},
   "source": [
    "`re.match` searches starting that the beginning of the string, while `re.search` searches the entire string.\n",
    "\n",
    "### Match the first time a capital letter appears in the tweet"
   ]
  },
  {
   "cell_type": "code",
   "execution_count": 14,
   "metadata": {},
   "outputs": [
    {
     "data": {
      "text/plain": [
       "'A'"
      ]
     },
     "execution_count": 14,
     "metadata": {},
     "output_type": "execute_result"
    }
   ],
   "source": [
    "match = re.search(\"[A-Z]\", SAMPLE_TWEET)\n",
    "match.group()"
   ]
  },
  {
   "cell_type": "markdown",
   "metadata": {},
   "source": [
    "### Match all capital letters that appears in the tweet"
   ]
  },
  {
   "cell_type": "code",
   "execution_count": 15,
   "metadata": {},
   "outputs": [
    {
     "data": {
      "text/plain": [
       "['A', 'S', 'U', 'C', 'K', 'S', 'E']"
      ]
     },
     "execution_count": 15,
     "metadata": {},
     "output_type": "execute_result"
    }
   ],
   "source": [
    "re.findall(\"[A-Z]\", SAMPLE_TWEET)"
   ]
  },
  {
   "cell_type": "markdown",
   "metadata": {},
   "source": [
    "### Match all words that are at least 3 characters long"
   ]
  },
  {
   "cell_type": "code",
   "execution_count": 16,
   "metadata": {
    "scrolled": true
   },
   "outputs": [
    {
     "data": {
      "text/plain": [
       "['wolfram',\n",
       " 'Alpha',\n",
       " 'SUCKS',\n",
       " 'Even',\n",
       " 'for',\n",
       " 'researchers',\n",
       " 'the',\n",
       " 'information',\n",
       " 'provided',\n",
       " 'less',\n",
       " 'than',\n",
       " 'you',\n",
       " 'can',\n",
       " 'get',\n",
       " 'from',\n",
       " 'google',\n",
       " 'wikipedia',\n",
       " 'totally',\n",
       " 'useless']"
      ]
     },
     "execution_count": 16,
     "metadata": {},
     "output_type": "execute_result"
    }
   ],
   "source": [
    "re.findall(\"[a-zA-Z]{3,}\", SAMPLE_TWEET)"
   ]
  },
  {
   "cell_type": "markdown",
   "metadata": {},
   "source": [
    "### Match all hashtags in the tweet"
   ]
  },
  {
   "cell_type": "code",
   "execution_count": 17,
   "metadata": {},
   "outputs": [
    {
     "data": {
      "text/plain": [
       "['#wolfram', '#google', '#wikipedia']"
      ]
     },
     "execution_count": 17,
     "metadata": {},
     "output_type": "execute_result"
    }
   ],
   "source": [
    "re.findall(\"#[a-zA-Z0-9]+\", SAMPLE_TWEET)"
   ]
  },
  {
   "cell_type": "markdown",
   "metadata": {},
   "source": [
    "### Match all hashtags in the tweets, capture only the text of the hashtag"
   ]
  },
  {
   "cell_type": "code",
   "execution_count": 50,
   "metadata": {},
   "outputs": [],
   "source": [
    "# capturing groups - (...) # the lambda function is uppercasing everything\n",
    "hashtags = list(map(lambda x: x.upper(), re.findall(\"#([a-zA-Z0-9]+)\", SAMPLE_TWEET)))"
   ]
  },
  {
   "cell_type": "markdown",
   "metadata": {},
   "source": [
    "### Match all words that start with `t`, and are followed by `h` or `o`"
   ]
  },
  {
   "cell_type": "code",
   "execution_count": 3,
   "metadata": {},
   "outputs": [
    {
     "data": {
      "text/plain": [
       "['the', 'than', 'totally']"
      ]
     },
     "execution_count": 3,
     "metadata": {},
     "output_type": "execute_result"
    }
   ],
   "source": [
    "re.findall(r'(th|to|ta)\\w+', SAMPLE_TWEET)\n",
    "\n",
    "# non capturing groups - ?:\n",
    "re.findall(r't(?:h|o|a)\\w+', SAMPLE_TWEET)"
   ]
  },
  {
   "cell_type": "markdown",
   "metadata": {},
   "source": [
    "### Match all words that end a sentence"
   ]
  },
  {
   "cell_type": "code",
   "execution_count": 65,
   "metadata": {},
   "outputs": [
    {
     "data": {
      "text/plain": [
       "['SUCKS', 'useless']"
      ]
     },
     "execution_count": 65,
     "metadata": {},
     "output_type": "execute_result"
    }
   ],
   "source": [
    "re.findall(r'(\\w+)(?:[!\\.\\?])', SAMPLE_TWEET)"
   ]
  },
  {
   "cell_type": "markdown",
   "metadata": {},
   "source": [
    "### How to Handle When the Regex Does Not Match?\n",
    "\n",
    "`re.findall()`, `re.match()`, and `re.search()` will return an empty list or `None` objects if no match occurs. You can combine this with Python's truthiness evaluation to handle each case."
   ]
  },
  {
   "cell_type": "code",
   "execution_count": 4,
   "metadata": {},
   "outputs": [
    {
     "name": "stdout",
     "output_type": "stream",
     "text": [
      "True\n",
      "False\n"
     ]
    }
   ],
   "source": [
    "if re.findall(\"a\", SAMPLE_TWEET):\n",
    "    print(\"True\")\n",
    "else:\n",
    "    print(\"False\")\n",
    "    \n",
    "if re.match(\"x\", SAMPLE_TWEET):\n",
    "    print(\"True\") # Do stuff here if it matches\n",
    "else:\n",
    "    print(\"False\") # Do stuff here if it does not match"
   ]
  },
  {
   "cell_type": "markdown",
   "metadata": {},
   "source": [
    "### Word Boundaries\n",
    "\n",
    "*A thorough examination of the movie shows Thor was a thorn in the side of the villains. Thor.*"
   ]
  },
  {
   "cell_type": "code",
   "execution_count": 12,
   "metadata": {},
   "outputs": [
    {
     "data": {
      "text/plain": [
       "['Thor', 'Thor']"
      ]
     },
     "execution_count": 12,
     "metadata": {},
     "output_type": "execute_result"
    }
   ],
   "source": [
    "text = \"A thorough examination of the movie shows Thor was a thorn in the side of the villains. Thor.\"\n",
    "re.findall(r'\\bThor\\b', text) # notice the use of the r string prefix!"
   ]
  },
  {
   "cell_type": "markdown",
   "metadata": {},
   "source": [
    "### Case Insensitive Matching"
   ]
  },
  {
   "cell_type": "code",
   "execution_count": 20,
   "metadata": {},
   "outputs": [
    {
     "data": {
      "text/plain": [
       "['Thor', 'Thor']"
      ]
     },
     "execution_count": 20,
     "metadata": {},
     "output_type": "execute_result"
    }
   ],
   "source": [
    "re.findall(r'\\bthor\\b', text, re.IGNORECASE) # even though Thor is uppercased in the text above."
   ]
  },
  {
   "cell_type": "markdown",
   "metadata": {},
   "source": [
    "### Use regex to find the username and domains of emails that\n",
    "- have subdomains (for example `marshall.usc.edu`, not `gmail.com`)\n",
    "- are all lowercased\n",
    "\n",
    "Using `^` inside brackets (`[^A-Z]`) will NOT match anything - this case, not match any capital letters. The `\\n` stands for a carriage return (new line) - ie. don't match new lines. Copy paste this into `regex.com` for practice.\n",
    "\n",
    "```\n",
    "myemail@gmail.com\n",
    "ychen220@marshall.usc.edu\n",
    "anotherone@hotmail.com\n",
    "yu.chen@anderson.ucla.edu\n",
    "yu.chen@usc.edu\n",
    "YUCHEN@gmail.com\n",
    "```\n"
   ]
  },
  {
   "cell_type": "code",
   "execution_count": 22,
   "metadata": {},
   "outputs": [
    {
     "data": {
      "text/plain": [
       "[('ychen220', 'marshall.usc.edu'),\n",
       " ('yu.chen', 'anderson.ucla.edu'),\n",
       " ('yu.chen', 'big.company.org')]"
      ]
     },
     "execution_count": 22,
     "metadata": {},
     "output_type": "execute_result"
    }
   ],
   "source": [
    "EMAILS = '''\n",
    "myemail@gmail.com\n",
    "ychen220@marshall.usc.edu\n",
    "anotherone@hotmail.com\n",
    "yu.chen@anderson.ucla.edu\n",
    "yu.chen@usc.edu\n",
    "yu.chen@big.company.org\n",
    "YUCHEN@gmail.com\n",
    "'''\n",
    "\n",
    "re.findall(\"([^A-Z\\n]{3,12})@([^A-Z\\n]+\\.[^A-Z\\n]+\\.[^A-Z\\n]{3})\", EMAILS)"
   ]
  },
  {
   "cell_type": "markdown",
   "metadata": {},
   "source": [
    "### Should I compile regex?\n",
    "\n",
    "Compiling the regular expressions in Python is supposed to make performance faster. However, I've never really ever noticed much of a difference, and neither does this StackOverflow post.\n",
    "\n",
    "Internally, Python automatically compiles and caches your compiled regular expressions anyways, so in general, it's not worth the time.\n",
    "\n",
    "```python\n",
    "h = re.compile(r'\\bThor\\b')\n",
    "h.findall(text)\n",
    "# ['Thor', 'Thor']\n",
    "```"
   ]
  },
  {
   "cell_type": "code",
   "execution_count": null,
   "metadata": {},
   "outputs": [],
   "source": []
  }
 ],
 "metadata": {
  "kernelspec": {
   "display_name": "Python 3",
   "language": "python",
   "name": "python3"
  },
  "language_info": {
   "codemirror_mode": {
    "name": "ipython",
    "version": 3
   },
   "file_extension": ".py",
   "mimetype": "text/x-python",
   "name": "python",
   "nbconvert_exporter": "python",
   "pygments_lexer": "ipython3",
   "version": "3.6.4"
  }
 },
 "nbformat": 4,
 "nbformat_minor": 2
}
