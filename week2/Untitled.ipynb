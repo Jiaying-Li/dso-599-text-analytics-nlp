{
 "cells": [
  {
   "cell_type": "code",
   "execution_count": 1,
   "metadata": {},
   "outputs": [],
   "source": [
    "mylist = [(\"the\", 100), (\"me\", 50), (\"you\", 20)]"
   ]
  },
  {
   "cell_type": "code",
   "execution_count": 4,
   "metadata": {},
   "outputs": [],
   "source": [
    "top_words = []\n",
    "\n",
    "for word_count in mylist:\n",
    "    top_words.append(word_count[0])"
   ]
  },
  {
   "cell_type": "code",
   "execution_count": 7,
   "metadata": {},
   "outputs": [
    {
     "data": {
      "text/plain": [
       "['the', 'me', 'you']"
      ]
     },
     "execution_count": 7,
     "metadata": {},
     "output_type": "execute_result"
    }
   ],
   "source": [
    "def get_word(word_tuple):\n",
    "    return word_tuple[0]\n",
    "\n",
    "list(map(get_word, mylist))"
   ]
  },
  {
   "cell_type": "code",
   "execution_count": null,
   "metadata": {},
   "outputs": [],
   "source": [
    "list(map(get_word, mylist))\n",
    "\n",
    "list(map(lambda word_tuple: word_tuple[0], mylist))"
   ]
  },
  {
   "cell_type": "code",
   "execution_count": 22,
   "metadata": {},
   "outputs": [],
   "source": [
    "dictionary = {\n",
    "    \"the\": 500,\n",
    "    \"me\": 400\n",
    "}\n",
    "\n",
    "\n",
    "mylist = [(\"the\", 10000), (\"I\", 5000), (\"me\", 4000)]\n",
    "\n",
    "word_count_the = (\"the\", 500)\n",
    "\n",
    "another_tuple = (\"hello\", 50)\n",
    "\n",
    "total_number_of_words = 100000\n",
    "def convert_to_proportion(word_tuple):\n",
    "    print(f\"Currently calculating the proportion for {word_tuple[0]}\")\n",
    "    return word_tuple[1] / total_number_of_words * 100"
   ]
  },
  {
   "cell_type": "code",
   "execution_count": 23,
   "metadata": {},
   "outputs": [
    {
     "name": "stdout",
     "output_type": "stream",
     "text": [
      "Currently calculating the proportion for the\n",
      "10.0\n",
      "Currently calculating the proportion for I\n",
      "5.0\n",
      "Currently calculating the proportion for me\n",
      "4.0\n"
     ]
    }
   ],
   "source": [
    "for word_tuple in mylist:\n",
    "    \n",
    "    print(convert_to_proportion(word_tuple))"
   ]
  },
  {
   "cell_type": "code",
   "execution_count": 21,
   "metadata": {},
   "outputs": [
    {
     "data": {
      "text/plain": [
       "[10.0, 5.0, 4.0]"
      ]
     },
     "execution_count": 21,
     "metadata": {},
     "output_type": "execute_result"
    }
   ],
   "source": [
    "list(map(convert_to_proportion, mylist))"
   ]
  },
  {
   "cell_type": "code",
   "execution_count": null,
   "metadata": {},
   "outputs": [],
   "source": []
  }
 ],
 "metadata": {
  "kernelspec": {
   "display_name": "Python 3",
   "language": "python",
   "name": "python3"
  },
  "language_info": {
   "codemirror_mode": {
    "name": "ipython",
    "version": 3
   },
   "file_extension": ".py",
   "mimetype": "text/x-python",
   "name": "python",
   "nbconvert_exporter": "python",
   "pygments_lexer": "ipython3",
   "version": "3.6.3"
  }
 },
 "nbformat": 4,
 "nbformat_minor": 2
}
