{
 "cells": [
  {
   "cell_type": "markdown",
   "metadata": {},
   "source": [
    "# Week 1: Basic Python Operations for Working with Text"
   ]
  },
  {
   "cell_type": "markdown",
   "metadata": {},
   "source": [
    "## Overview\n",
    "\n",
    "By the end of this week, you should be able to perform the following operations:\n",
    "\n",
    "\n",
    "#### Text Analytics\n",
    "- **load a text file into memory** using Python's built-in streaming libraries\n",
    "- **visualize word count and line length distributions** as histograms using Matplotlib\n",
    "\n",
    "#### Software Engineering\n",
    "- **read strings from a text input/output stream** using `readline()` and `readlines()`\n",
    "- **use both native Python dictionaries and `collections.Counter` objects** to produce word counts for a text corpus\n",
    "- perform basic search/replace operations using **regular expressions** (we will cover Week 2)\n",
    "- use `map()` and `filter()` functions to efficiently transform and filter large amounts of text (we will cover Week 2)\n",
    "\n",
    "#### Statistics / Machine Learning\n",
    "- **create a word transition matrix using Numpy arrays**, which can be used for probabilistic inference and text generation (we will cover Week 2)\n",
    "\n",
    "\n",
    "## Loading Text into Memory\n",
    "\n",
    "There are a variety of ways to hold data within memory. For text analytics and natural language processing purposes, we'll be most concerned with the following:\n",
    "\n",
    "- **list**\n",
    "- **set**\n",
    "- **dictionary**\n",
    "- **tuple**\n",
    "- **Numpy array**\n",
    "\n",
    "Imagine that we would like to find the most commonly used words in ***A Tale of Two Cities***, by the famed English novelist Charles Dickens, stored in a text file called **`tale-of-two-cities.txt`**, in the same directory as this Jupyter notebook. Later on, we'll use 3rd-party libraries to automate much of the processing, but for now, we'll explore Python's built-in functions for text processing.\n",
    "\n",
    "#### Opening Files"
   ]
  },
  {
   "cell_type": "markdown",
   "metadata": {},
   "source": [
    "The **`open()`** function takes *two* parameters; **filename**, and **mode**. In our case, `mode` is set to `r` for **read**, since we plan to read the file's contents, as opposed to `w` (write), or `a` (append)."
   ]
  },
  {
   "cell_type": "code",
   "execution_count": 1,
   "metadata": {},
   "outputs": [
    {
     "name": "stdout",
     "output_type": "stream",
     "text": [
      "<_io.TextIOWrapper name='tale-of-two-cities.txt' mode='r' encoding='UTF-8'>\n"
     ]
    }
   ],
   "source": [
    "text_file = open(\"tale-of-two-cities.txt\", \"r\")\n",
    "print(text_file)"
   ]
  },
  {
   "cell_type": "markdown",
   "metadata": {},
   "source": [
    "Typically, a text character is **1 byte** in size. One byte is equal to **32 bits**. This means conceptually, the size of a string should be $N$ bytes, where $N$ is the number of characters. However, you'll see that in Python, the size of a string is larger:"
   ]
  },
  {
   "cell_type": "code",
   "execution_count": 2,
   "metadata": {},
   "outputs": [
    {
     "name": "stdout",
     "output_type": "stream",
     "text": [
      "The size of EMPTY_STRING is 49 bytes.\n",
      "The size of ONE_CHAR_STRING is 50 bytes.\n",
      "The size of TWO_CHAR_STRING is 51 bytes.\n"
     ]
    }
   ],
   "source": [
    "import sys\n",
    "EMPTY_STRING = \"\"\n",
    "ONE_CHAR_STRING = \"a\"\n",
    "TWO_CHAR_STRING = \"ab\"\n",
    "print(f\"The size of EMPTY_STRING is {sys.getsizeof(EMPTY_STRING)} bytes.\")\n",
    "print(f\"The size of ONE_CHAR_STRING is {sys.getsizeof(ONE_CHAR_STRING)} bytes.\")\n",
    "print(f\"The size of TWO_CHAR_STRING is {sys.getsizeof(TWO_CHAR_STRING)} bytes.\")"
   ]
  },
  {
   "cell_type": "markdown",
   "metadata": {},
   "source": [
    "The **`open()`** function returns a **`TextIOWrapper`** object from Python's `io` module, which handles common input/output streaming operations. \n",
    "\n",
    "A **stream** is a potentially infinite sequence of elements (in our case, characters) arriving over time. You'll use streams to model data that is **unbounded** (it's undetermined the volume, the length, and frequency of the data). A stream has a pointer to its current position within the sequence. \n",
    "\n",
    "This object has an extremely helpful **`readline()`** method that reads from a text file until encountering an **`EOF`** marker or a new line symbol."
   ]
  },
  {
   "cell_type": "code",
   "execution_count": 3,
   "metadata": {},
   "outputs": [
    {
     "data": {
      "text/plain": [
       "'  IT WAS the best of times, it was the worst of times, it was the\\n'"
      ]
     },
     "execution_count": 3,
     "metadata": {},
     "output_type": "execute_result"
    }
   ],
   "source": [
    "text_file.readline()"
   ]
  },
  {
   "cell_type": "markdown",
   "metadata": {},
   "source": [
    "You can pass in a parameter to **`readline()`** to control how many bytes of input stream data you'll receive. For instance, **`readline(2)`** returns at most 2 bytes of text input data. You might use this, for instance, if your Python application is reading not from a flat text file, but from a socket, which supplies a continuous stream of data with fixed length (ie., the messages all have the same number of characters).\n",
    "\n",
    "**In-Class Question**: *Assume you just opened the text file with **`open()`**. What output is returned when **`text_file.readline(5)`** is called the **second** time?*\n",
    "- **A)** The entire first line of the novel\n",
    "- **B)** The first 5 characters of the second line\n",
    "- **C)** The entire second line of the novel\n",
    "- **D)** The first 5 characters of the first line\n",
    "- **E)** The 6th-10th characters of the first line"
   ]
  },
  {
   "cell_type": "code",
   "execution_count": 4,
   "metadata": {},
   "outputs": [
    {
     "name": "stdout",
     "output_type": "stream",
     "text": [
      "Iteration 1:   IT \n",
      "Iteration 2: WAS t\n"
     ]
    }
   ],
   "source": [
    "text_file.seek(0) #reset the stream position to the start of the text file\n",
    "for i in range(2): # repeat the below line twice\n",
    "    print(f\"Iteration {i + 1}: {text_file.readline(5)}\")"
   ]
  },
  {
   "cell_type": "markdown",
   "metadata": {},
   "source": [
    "Each time that you call **`readline()`**, a position marker within **`TextIOWrapper`** is moved forward:\n",
    "<img src=\"images/readline.png\" width=\"500\" height=\"300\" align=\"center\"/>\n",
    "We typically will use **`readlines()`** instead to read text files line by line. This returns a Python **list**:"
   ]
  },
  {
   "cell_type": "code",
   "execution_count": 5,
   "metadata": {},
   "outputs": [],
   "source": [
    "text_file.seek(0) # reset the stream position to the start of the file\n",
    "lines = text_file.readlines() # read all the lines and return a list of strings"
   ]
  },
  {
   "cell_type": "markdown",
   "metadata": {},
   "source": [
    "We see that there are 12870 lines of text in the novel."
   ]
  },
  {
   "cell_type": "code",
   "execution_count": 6,
   "metadata": {},
   "outputs": [
    {
     "name": "stdout",
     "output_type": "stream",
     "text": [
      "There are 12870 lines in the novel.\n"
     ]
    }
   ],
   "source": [
    "print(f\"There are {len(lines)} lines in the novel.\")"
   ]
  },
  {
   "cell_type": "code",
   "execution_count": 7,
   "metadata": {},
   "outputs": [
    {
     "name": "stdout",
     "output_type": "stream",
     "text": [
      "On average, each line has 58.9 characters.\n"
     ]
    }
   ],
   "source": [
    "total_num_chars = 0\n",
    "for line in lines: # iterate through each line\n",
    "    total_num_chars += len(line) # add the number of characters in a line to the total count of characters\n",
    "\n",
    "avg_chars = round(total_num_chars / len(lines),1) # divide total character count by number of lines to get average\n",
    "print(f\"On average, each line has {avg_chars} characters.\")"
   ]
  },
  {
   "cell_type": "code",
   "execution_count": 8,
   "metadata": {},
   "outputs": [],
   "source": [
    "import matplotlib.pyplot as plt # we are importing the pyplot module from matplotlib, and naming it as plt"
   ]
  },
  {
   "cell_type": "markdown",
   "metadata": {},
   "source": [
    "### An Aside: List Comprehension\n",
    "\n",
    "Sometimes, we need to iterate through a list and perform some sort of operation (sum all the elements, or remove a certain character). The traditional way to do this is using a for loop:\n",
    "\n",
    "```Python\n",
    "lengths = [] # declare an empty list\n",
    "for line in lines: # iterate through each line\n",
    "    lengths.append(len(line)) # add the length of each line to the list\n",
    "```\n",
    "\n",
    "A slightly less verbose way, called **list comprehension**, to write this is\n",
    "\n",
    "```Python\n",
    "lengths = [len(line) for line in lines]\n",
    "```\n",
    "\n",
    "List comprehension is typically slightly faster, since it avoids the additional `append()` call for each iteration of the for loop. See this example from StackOverflow:\n",
    "\n",
    "```Python\n",
    "def slower(): # using traditional iteration\n",
    "    result = []\n",
    "    for elem in some_iterable:\n",
    "        result.append(elem)\n",
    "    return result\n",
    "```\n",
    "\n",
    "```Python\n",
    "def faster(): # using list comprehension\n",
    "    return [elem for elem in some_iterable]\n",
    "```\n",
    "\n",
    "Within the Python REPL **(read-eval-print-loop)**:\n",
    "\n",
    "```Python\n",
    ">>> some_iterable = range(1000)\n",
    ">>> import timeit\n",
    ">>> timeit.timeit('f()', 'from __main__ import slower as f', number=10000)\n",
    "1.4456570148468018\n",
    ">>> timeit.timeit('f()', 'from __main__ import faster as f', number=10000)\n",
    "0.49323201179504395\n",
    "```"
   ]
  },
  {
   "cell_type": "markdown",
   "metadata": {},
   "source": [
    "### Visualizing Summary Metrics Using Matplotlib"
   ]
  },
  {
   "cell_type": "code",
   "execution_count": 9,
   "metadata": {},
   "outputs": [
    {
     "data": {
      "image/png": "[encoded data removed]",
      "text/plain": [
       "<matplotlib.figure.Figure at 0x116a53a90>"
      ]
     },
     "metadata": {},
     "output_type": "display_data"
    }
   ],
   "source": [
    "NUM_BINS = 30 # increase this number to make the visualization more granular\n",
    "plt.rcParams[\"figure.figsize\"] = (15,6)\n",
    "plt.hist([len(line) for line in lines], bins=NUM_BINS)\n",
    "plt.title(\"Distribution of Line Lengths in Tale of Two Cities\") # give the plot a title\n",
    "plt.xlabel(\"Number of Characters in Line\") # label the X axis\n",
    "plt.ylabel(\"Count of Lines\") # label the Y axis\n",
    "plt.show()"
   ]
  },
  {
   "cell_type": "markdown",
   "metadata": {},
   "source": [
    "What if now we want to visualize how many times each word appears in the entire novel (for now, we won't worry about **stemming / lemmatization** and other preprocessing steps)?\n",
    "\n",
    "### First Method: Create a Dictionary to Store Word Count\n",
    "\n",
    "Dictionaries in Python have **keys** and **values**. The keys must be unique (no duplicate keys). They can be accessed via the **`keys()`** and **`values()`** methods of a dictionary object.\n"
   ]
  },
  {
   "cell_type": "code",
   "execution_count": 10,
   "metadata": {},
   "outputs": [
    {
     "name": "stdout",
     "output_type": "stream",
     "text": [
      "There's an estimated 143345 words in the novel.\n",
      "There's 21683 unique words in the novel.\n"
     ]
    }
   ],
   "source": [
    "words = [] # create a list of all words\n",
    "word_count = {} # create a dictionary to store word counts\n",
    "\n",
    "for line in lines: # for each line in the novel\n",
    "    for word in line.split(\" \"): # for each word in the line\n",
    "        words.append(word) # add the word to the list of words\n",
    "        \n",
    "        if word not in word_count.keys(): # if the word has not been seen before, add it to the dictionary with initial count of 1\n",
    "            word_count[word] = 1\n",
    "        else:\n",
    "            word_count[word] += 1 # if the word has been seen before, increment its count by 1\n",
    "        \n",
    "print(f\"There's an estimated {len(words)} words in the novel.\")\n",
    "print(f\"There's {len(word_count.keys())} unique words in the novel.\")"
   ]
  },
  {
   "cell_type": "markdown",
   "metadata": {},
   "source": [
    "Let's use Python **`sets`** to check that our dictionary's keys are unique. Remember that a set is a collection of **unique elements**, so calling **`set(words)`** will return only the unique words in our text file."
   ]
  },
  {
   "cell_type": "code",
   "execution_count": 11,
   "metadata": {},
   "outputs": [],
   "source": [
    "assert len(word_count.keys()) == len(set(words)), \"This error message will be printed if the assertion to the left is not true.\""
   ]
  },
  {
   "cell_type": "markdown",
   "metadata": {},
   "source": [
    "### Using Python's Built-In Counter\n",
    "\n",
    "Since the task of building a count using a dictionary is a common operation, Python provides a built-in object called `Counter` that we can use:"
   ]
  },
  {
   "cell_type": "code",
   "execution_count": 12,
   "metadata": {},
   "outputs": [],
   "source": [
    "from collections import Counter\n",
    "\n",
    "def count_words(lines, delimiter=\" \"):\n",
    "    \n",
    "    words = Counter() # instantiate a Counter object called words\n",
    "    for line in lines:\n",
    "        for word in line.split(delimiter):\n",
    "            words[word] += 1 # increment count for word\n",
    "    return words"
   ]
  },
  {
   "cell_type": "markdown",
   "metadata": {},
   "source": [
    "A core principle of software engineering and programming is **DRY**: Don't Repeat Yourself. Since we are likely going to be making many histograms throughout this course, it's best that we create a reusable function."
   ]
  },
  {
   "cell_type": "code",
   "execution_count": 13,
   "metadata": {},
   "outputs": [],
   "source": [
    "def make_histogram(values, title=None,xlabel=None,ylabel=None, bins=30, x_size=15, y_size=6):\n",
    "    plt.rcParams[\"figure.figsize\"] = (x_size,y_size)\n",
    "    plt.hist(values, bins=bins)\n",
    "    \n",
    "    if title:\n",
    "        plt.title(title) # give the plot a title\n",
    "        \n",
    "    if xlabel:\n",
    "        plt.xlabel(xlabel) # label the X axis\n",
    "        \n",
    "    if ylabel:\n",
    "        plt.ylabel(ylabel) # label the Y axis\n",
    "        \n",
    "    plt.show() "
   ]
  },
  {
   "cell_type": "code",
   "execution_count": 14,
   "metadata": {},
   "outputs": [
    {
     "data": {
      "image/png": "[encoded data removed]",
      "text/plain": [
       "<matplotlib.figure.Figure at 0x11975df28>"
      ]
     },
     "metadata": {},
     "output_type": "display_data"
    }
   ],
   "source": [
    "make_histogram(word_count.values(), \n",
    "               title=\"Distribution of Word Count\",\n",
    "               xlabel=\"Number of Times Word Appears\",\n",
    "               ylabel=\"Number of Unique Words\")"
   ]
  },
  {
   "cell_type": "markdown",
   "metadata": {},
   "source": [
    "### In-Class Question:\n",
    "- Why does this distribution look the way it does? \n",
    "- What additional steps could be taken to make the results more meaningful?"
   ]
  },
  {
   "cell_type": "code",
   "execution_count": 16,
   "metadata": {},
   "outputs": [],
   "source": [
    "import pandas as pd # output the results to a dataframe\n",
    "word_count_df = pd.DataFrame(columns=[\"word\", \"frequency\"]) # create a dataframe with two columns, word and frequency\n",
    "\n",
    "word_count_df[\"word\"] = list(word_count.keys())\n",
    "word_count_df[\"frequency\"] = list(word_count.values())\n",
    "word_count_df.to_csv(\"dickens_word_count.csv\") # saves to an outputs folder - if you don't have one, Python will throw an error"
   ]
  },
  {
   "cell_type": "markdown",
   "metadata": {},
   "source": [
    "# Encoding Styles\n",
    "\n",
    "This is not a computer science class, but in your practical work, you will frequently have to deal with text that is encoded in a variety of styles. Understanding the difference between them is key.\n",
    "\n",
    "## Bits and Bytes\n",
    "\n",
    "- Computers, at its lowest level, store everything in the form of bits (either a 0 or a 1). The amount of information that can be represented in a computer is determined by the number of bits.\n",
    "\n",
    "For instance, a using only 4 bits, you can store **$2^4$ = 16** different values.\n",
    "<figure>\n",
    "  <img src=\"images/binary.png\" alt=\"my alt text\"/>\n",
    "    <figcaption><i>How <b>$101010$</b> is converted to decimal (human-readable numbers): each of the green numbers is summed up to equal 42.</i></figcaption>\n",
    "</figure>\n",
    "\n",
    "It is not physically efficient for a computer to try to read one bit at a time, so typically data is stored in **8-bit** groups called **bytes**.\n",
    "\n",
    "## ASCII\n",
    "\n",
    "The oldest, yet still relevant encoding style to be aware of is **ASCII**, where computers represent text (**every character on a keyboard**) initially as a number between 0 and 127 (question: how many bits does it take to do this?)\n",
    "\n",
    "<figure>\n",
    "  <img src=\"images/ascii.svg\" alt=\"my alt text\"/>\n",
    "    <figcaption><i>ASCII table converting numbers to characters.<b>(Wikipedia)</b></i></figcaption>\n",
    "</figure>\n",
    "\n",
    "*If the smallest amount of data a computer can realistically read in is a byte (**8-bits**), why is ASCII only **7-bits**?* The last bit is used for error checking - to ensure that the data wasn't corrected or unintentionally altered.\n",
    "\n",
    "The dominant language in earlier eras of computing was English. People began to realize that ASCII was relatively limited, and even other European languages could not be properly supported. \n",
    "\n",
    "Characters such as `Ç` (pronounced `ch` in Turkish, for instance), is represented by the number `199`. The Spanish word `año` (year), could be represented as \n",
    "\n",
    "\n",
    "\n",
    "## Unicode\n",
    "\n",
    "128 characters is not enough to represent the characters in other Languages, like **Greek, Turkish, Cyrillic**, etc., or newer social media phenomenons like **emojis**. Unicode stores text as either 8, 16, or 32 bits (1, 2, or 4 bytes). This means there's significantly more characters that can be encoded (approximately 1 billion characters).\n",
    "\n",
    "As a point of reference, there's a total of **50,000** characters in the Chinese language (but only around **15-20,000** that are used commonly).\n",
    "\n",
    "If you don't specify the right encoding to read in text, you'll end up with something like this:\n",
    "<figure>\n",
    "  <img src=\"images/mojibake.png\" alt=\"my alt text\"/>\n",
    "    <figcaption><i>ASCII table converting numbers to characters.<b>(Wikipedia)</b></i></figcaption>\n",
    "</figure>\n",
    "\n",
    "# The Scale of Data in the 21st Century\n",
    "\n",
    "<figure>\n",
    "  <img src=\"images/scale.png\" alt=\"my alt text\"/>\n",
    "    <figcaption><i>ASCII table converting numbers to characters.<b>(Wikipedia)</b></i></figcaption>\n",
    "</figure>"
   ]
  },
  {
   "cell_type": "markdown",
   "metadata": {},
   "source": [
    "# Former In-Class Exercise (Now Homework 1B)\n",
    "\n",
    "You are a business analyst working for a major US toy retailer:\n",
    "\n",
    "* A manager in the marketing department wants to find out the most frequently used words in positive reviews (five stars) and negative reviews (one star) in order to determine who the toys are being bought for (sons, significant others, grandchildren, siblings, self, etc.). He would like your opinion on which customer segments' (son, daughter, granddaugher, grandson, niece, nephew, sibling, significant other, etc.) marketing messaging tends to outperform other segments.\n",
    "\n",
    "* One of your product managers suspects that **toys with batteries tend to be significantly lower rated than toys that do not require batteries**. She would like to see some data points confirming or rejecting her hypothesis. \n",
    "\n",
    "Perform the same word count analysis using the reviews received from Amazon to answer your marketing manager's question. They are stored in two files, (`poor_amazon_toy_reviews.txt`) and (`good-amazon-toy-reviews.txt`). **Provide a few sentences with your findings and business recommendations.** Make any assumptions you'd like to- this is a fictitious company after all. I just want you to get into the habit of \"finishing\" your analysis: to avoid delivering technical numbers to a non-technical manager.\n",
    "\n",
    "**Submit everything as a new notebook, either via Slack direct message to me, or email to me (ychen220@usc.edu).**\n"
   ]
  },
  {
   "cell_type": "code",
   "execution_count": 8,
   "metadata": {},
   "outputs": [],
   "source": [
    "from collections import Counter\n",
    "\n",
    "words = []\n",
    "count = 0\n",
    "for line in open(\"good_amazon_toy_reviews.txt\").readlines():\n",
    "    for word in line.split(\" \"):\n",
    "        words.append(word)\n",
    "    count += 1\n",
    "#words = process_words_map_filter(words)\n",
    "word_count = Counter()\n",
    "for word in words:\n",
    "    word_count[word] += 1\n",
    "sorted_word_counts = sorted(word_count.items(), key=lambda x: x[1])\n",
    "sorted_word_counts.reverse()\n",
    "\n",
    "def convert_to_proportion(word_tuple):\n",
    "    return (word_tuple[0], round(word_tuple[1]/count * 100,3))\n",
    "\n",
    "sorted_word_counts = list(map(convert_to_proportion, sorted_word_counts))"
   ]
  },
  {
   "cell_type": "code",
   "execution_count": 6,
   "metadata": {},
   "outputs": [
    {
     "name": "stdout",
     "output_type": "stream",
     "text": [
      "('battery', 2.598)\n"
     ]
    }
   ],
   "source": [
    "for word in sorted_word_counts:\n",
    "    if word[0] == \"battery\":\n",
    "        print(word)"
   ]
  },
  {
   "cell_type": "code",
   "execution_count": 9,
   "metadata": {},
   "outputs": [
    {
     "data": {
      "text/plain": [
       "102217"
      ]
     },
     "execution_count": 9,
     "metadata": {},
     "output_type": "execute_result"
    }
   ],
   "source": [
    "count"
   ]
  },
  {
   "cell_type": "code",
   "execution_count": null,
   "metadata": {},
   "outputs": [],
   "source": []
  }
 ],
 "metadata": {
  "kernelspec": {
   "display_name": "Python 3",
   "language": "python",
   "name": "python3"
  },
  "language_info": {
   "codemirror_mode": {
    "name": "ipython",
    "version": 3
   },
   "file_extension": ".py",
   "mimetype": "text/x-python",
   "name": "python",
   "nbconvert_exporter": "python",
   "pygments_lexer": "ipython3",
   "version": "3.6.3"
  }
 },
 "nbformat": 4,
 "nbformat_minor": 2
}
