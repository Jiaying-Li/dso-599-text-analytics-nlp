{
 "cells": [
  {
   "cell_type": "markdown",
   "metadata": {},
   "source": [
    "# Homework 1 (Due 5:30pm PST March 19th, 2019): Naive Bayes and Probability"
   ]
  },
  {
   "cell_type": "markdown",
   "metadata": {},
   "source": [
    "**A. Compute the following probabilities (4 points):**\n",
    "```python\n",
    "corpus = [(\"I love going to class\", \"ham\"),\n",
    "(\"Class is going well\", \"ham\"),\n",
    "(\"Do you love bargains\", \"spam\"),\n",
    "(\"Act now for bargains\", \"spam\"),\n",
    "(\"I love you\", \"ham\")]\n",
    "```\n",
    "* $P(x = love | y = ham)$\n",
    "* $P(y = spam)$\n",
    "* $P(x = bargains)$\n",
    "* $P(y = ham | x = \"You love bargains\")$\n",
    "\n",
    "**B. Former In-Class Exercise Word Count (Now Homework 1B) - 6 points**\n",
    "\n",
    "You are a business analyst working for a major US toy retailer:\n",
    "\n",
    "* Part 1: A manager in the marketing department wants to find out the most frequently used words in positive reviews (five stars) and negative reviews (one star) in order to determine who the toys are being bought for (sons, significant others, grandchildren, siblings, self, etc.). He would like your opinion on which customer segments' (son, daughter, granddaugher, grandson, niece, nephew, sibling, significant other, etc.) marketing messaging tends to outperform other segments.\n",
    "\n",
    "* Part 2: One of your product managers suspects that **toys with batteries tend to be significantly lower rated than toys that do not require batteries**. She would like to see some data points confirming or rejecting her hypothesis. \n",
    "\n",
    "Perform the same word count analysis using the reviews received from Amazon to answer your marketing manager's and product manager's question. They are stored in two files, (`poor_amazon_toy_reviews.txt`) and (`good-amazon-toy-reviews.txt`). **Provide only few sentences with your findings and business recommendations for each part (Part A and B.** Make any assumptions you'd like to- this is a fictitious company after all. I just want you to get into the habit of \"finishing\" your analysis: to avoid delivering technical numbers to a non-technical manager.\n",
    "\n",
    "**C. Read \"What is Natural Language Processing? The Business Use Case Explained\" (CIO.com) and Intro to Algorithmic Marketing (pages 179 - 184, 193 - 201)**. Be prepared for a short in-class graded exercise at the beginning of Week 2 on the topics in these readings (read it once, don't read it twice).\n",
    "\n",
    "### **Submit everything as a new notebook, either via Slack direct message to me, or email to me (ychen220@usc.edu). Much of the code should already be written for you!**"
   ]
  },
  {
   "cell_type": "markdown",
   "metadata": {},
   "source": [
    "### A. Compute the following probabilities (4 points):\n",
    "\n",
    "P(x = love | y = ham) = 2/3\n",
    "\n",
    "P(y = spam) = 2/5\n",
    "\n",
    "P(x = bargains) = 2/5\n",
    "\n",
    "P(y = ham | x = \"You love bargains\") = 0"
   ]
  },
  {
   "cell_type": "markdown",
   "metadata": {},
   "source": [
    "### B. Former In-Class Exercise Word Count (Now Homework 1B) - 6 points"
   ]
  },
  {
   "cell_type": "markdown",
   "metadata": {},
   "source": [
    "* Part 1: A manager in the marketing department wants to find out the most frequently used words in positive reviews (five stars) and negative reviews (one star) in order to determine who the toys are being bought for (sons, significant others, grandchildren, siblings, self, etc.). He would like your opinion on which customer segments' (son, daughter, granddaugher, grandson, niece, nephew, sibling, significant other, etc.) marketing messaging tends to outperform other segments."
   ]
  },
  {
   "cell_type": "code",
   "execution_count": null,
   "metadata": {},
   "outputs": [],
   "source": [
    "import os\n",
    "os.getcwd()"
   ]
  },
  {
   "cell_type": "code",
   "execution_count": null,
   "metadata": {},
   "outputs": [],
   "source": [
    "good= open(\"good_amazon_toy_reviews.txt\", \"r\")\n",
    "poor = open(\"poor_amazon_toy_reviews.txt\", \"r\")"
   ]
  },
  {
   "cell_type": "code",
   "execution_count": null,
   "metadata": {},
   "outputs": [],
   "source": [
    "good.seek(0)\n",
    "poor.seek(0)\n",
    "good=good.readlines()\n",
    "poor=poor.readlines()"
   ]
  },
  {
   "cell_type": "code",
   "execution_count": null,
   "metadata": {},
   "outputs": [],
   "source": [
    "segments=['son', 'daughter', 'granddaugher', 'grandson', 'niece', 'nephew', 'sibling','siblings']\n",
    "seg_dict_good={key:0 for key in segments}"
   ]
  },
  {
   "cell_type": "code",
   "execution_count": null,
   "metadata": {},
   "outputs": [],
   "source": [
    "import nltk\n",
    "for line in good:\n",
    "    words=line.split()\n",
    "    for word in words:\n",
    "        if word in segments:\n",
    "            seg_dict_good[word]+=1"
   ]
  },
  {
   "cell_type": "code",
   "execution_count": null,
   "metadata": {},
   "outputs": [],
   "source": [
    "import pandas as pd\n",
    "seg_good_df=pd.DataFrame(list(seg_dict_good.items()), columns=['Segment','Frequency'])\n",
    "seg_good_df.sort_values(by='Frequency',ascending=False)"
   ]
  },
  {
   "cell_type": "code",
   "execution_count": null,
   "metadata": {},
   "outputs": [],
   "source": [
    "seg_dict_poor={key:0 for key in segments}"
   ]
  },
  {
   "cell_type": "code",
   "execution_count": null,
   "metadata": {},
   "outputs": [],
   "source": [
    "for line in poor:\n",
    "    words=line.split()\n",
    "    for word in words:\n",
    "        if word in segments:\n",
    "            seg_dict_poor[word]+=1"
   ]
  },
  {
   "cell_type": "code",
   "execution_count": null,
   "metadata": {},
   "outputs": [],
   "source": [
    "seg_poor_df=pd.DataFrame(list(seg_dict_poor.items()), columns=['Segment','Frequency'])\n",
    "seg_poor_df.sort_values(by='Frequency',ascending=False)"
   ]
  },
  {
   "cell_type": "code",
   "execution_count": null,
   "metadata": {},
   "outputs": [],
   "source": [
    "seg_good_df['Frequency']/seg_poor_df['Frequency']"
   ]
  },
  {
   "cell_type": "markdown",
   "metadata": {},
   "source": [
    "Most good reviews come from those who bought the toy for their sons (5640 times) and daughters (5541 times). Quite a number of customers who rated it high bought it for their grandsons (2491 times) rather than their granddaughters. \n",
    "\n",
    "Most poor reviews come from those who bought it for their sons (504 times) rather than for their daughters (327 times). Some who rated it low bought it for their grandsons (113 times)\n",
    "\n",
    "To summarize, if only looking at the ratios of good reviews over poor reviews, people who bought the toy for their sons tend to be more picky. The marketing messaging seems to convey better to customers who bought it for their daughters or their grandsons. "
   ]
  },
  {
   "cell_type": "markdown",
   "metadata": {},
   "source": [
    "#### Part 2: One of your product managers suspects that toys with batteries tend to be significantly lower rated than toys that do not require batteries. She would like to see some data points confirming or rejecting her hypothesis. "
   ]
  },
  {
   "cell_type": "markdown",
   "metadata": {},
   "source": [
    "* Null Hypothesis: Toys with and without batteries are equally rated, i.e. toys with and without batteries have the same probability of receiving negative reviews.\n",
    "* Alternative Hypothesis: Toys with batteries will received more negative reviews than toys without batteries."
   ]
  },
  {
   "cell_type": "code",
   "execution_count": null,
   "metadata": {},
   "outputs": [],
   "source": [
    "import re\n",
    "good_battery=[w for w in good if re.search('[A-Za-z0-9_]*battery[A-Za-z0-9_]*', w) \\\n",
    "                or re.search('[A-Za-z0-9_]*batteries[A-Za-z0-9_]*', w)]"
   ]
  },
  {
   "cell_type": "code",
   "execution_count": null,
   "metadata": {},
   "outputs": [],
   "source": [
    "poor_battery=[w for w in poor if re.search('[A-Za-z0-9_]*battery[A-Za-z0-9_]*', w) \\\n",
    "                or re.search('[A-Za-z0-9_]*batteries[A-Za-z0-9_]*', w)]"
   ]
  },
  {
   "cell_type": "code",
   "execution_count": null,
   "metadata": {},
   "outputs": [],
   "source": [
    "#probability of seeing \"battery\" or \"batteries\" in a review\n",
    "prob_battery=(len(good_battery)+len(poor_battery))/(len(good)+len(poor))"
   ]
  },
  {
   "cell_type": "code",
   "execution_count": null,
   "metadata": {},
   "outputs": [],
   "source": [
    "prob_battery"
   ]
  },
  {
   "cell_type": "code",
   "execution_count": null,
   "metadata": {},
   "outputs": [],
   "source": [
    "#probability of \"battery\"/\"batteries\" and negative\n",
    "prob_battery_poor=len(poor_battery)/(len(good)+len(poor))"
   ]
  },
  {
   "cell_type": "code",
   "execution_count": null,
   "metadata": {},
   "outputs": [],
   "source": [
    "prob_battery_poor"
   ]
  },
  {
   "cell_type": "code",
   "execution_count": null,
   "metadata": {},
   "outputs": [],
   "source": [
    "#probability of no \"battery\"/\"batteries\" and negative\n",
    "prob_no_battery_poor=(len(poor)-len(poor_battery))/(len(good)+len(poor))"
   ]
  },
  {
   "cell_type": "code",
   "execution_count": null,
   "metadata": {},
   "outputs": [],
   "source": [
    "prob_no_battery_poor"
   ]
  },
  {
   "cell_type": "code",
   "execution_count": null,
   "metadata": {},
   "outputs": [],
   "source": [
    "#probability of not seeing \"battery\" or \"batteries\" in a review\n",
    "prob_no_battery=1-prob_battery"
   ]
  },
  {
   "cell_type": "code",
   "execution_count": null,
   "metadata": {},
   "outputs": [],
   "source": [
    "prob_no_battery"
   ]
  },
  {
   "cell_type": "code",
   "execution_count": null,
   "metadata": {},
   "outputs": [],
   "source": [
    "#probability of a negative review given \"battery\"/\"batteries\" appears\n",
    "prob1=prob_battery_poor/prob_battery\n",
    "prob2=prob_no_battery_poor/prob_no_battery"
   ]
  },
  {
   "cell_type": "code",
   "execution_count": null,
   "metadata": {},
   "outputs": [],
   "source": [
    "num_battery=len(good_battery)+len(poor_battery)\n",
    "num_no_battery=len(good)+len(poor)-(len(good_battery)+len(poor_battery))"
   ]
  },
  {
   "cell_type": "code",
   "execution_count": null,
   "metadata": {},
   "outputs": [],
   "source": [
    "p_pool=(num_battery*prob1+num_no_battery*prob2)/(num_battery+num_no_battery)"
   ]
  },
  {
   "cell_type": "code",
   "execution_count": null,
   "metadata": {},
   "outputs": [],
   "source": [
    "ste=((p_pool*(1-p_pool)/num_battery)+(p_pool*(1-p_pool)/num_no_battery))**0.5"
   ]
  },
  {
   "cell_type": "code",
   "execution_count": null,
   "metadata": {},
   "outputs": [],
   "source": [
    "z_score=((prob1-prob2)-0)/ste"
   ]
  },
  {
   "cell_type": "code",
   "execution_count": null,
   "metadata": {},
   "outputs": [],
   "source": [
    "from scipy import stats\n",
    "p_value = stats.norm.sf(abs(z_score)) #one-sided"
   ]
  },
  {
   "cell_type": "code",
   "execution_count": null,
   "metadata": {},
   "outputs": [],
   "source": [
    "p_value<0.05"
   ]
  },
  {
   "cell_type": "markdown",
   "metadata": {},
   "source": [
    "Since p_value is smaller than 0.05, meaning that the probability of getting new results as or more extreme than the actual data is less than 5%, if the null hypothesis were true. We reject the null hypothesis at 5% significance level and conclude that toys with batteries will received more negative reviews than toys without batteries. "
   ]
  },
  {
   "cell_type": "markdown",
   "metadata": {},
   "source": [
    "Therefore, when producing toys with batteries, we should be more careful with quality control. People are more likely give a negative review when there is a battery issue."
   ]
  }
 ],
 "metadata": {
  "kernelspec": {
   "display_name": "Python 3",
   "language": "python",
   "name": "python3"
  },
  "language_info": {
   "codemirror_mode": {
    "name": "ipython",
    "version": 3
   },
   "file_extension": ".py",
   "mimetype": "text/x-python",
   "name": "python",
   "nbconvert_exporter": "python",
   "pygments_lexer": "ipython3",
   "version": "3.6.4"
  }
 },
 "nbformat": 4,
 "nbformat_minor": 2
}
